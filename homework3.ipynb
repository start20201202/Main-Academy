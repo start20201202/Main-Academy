{
 "cells": [
  {
   "cell_type": "markdown",
   "id": "c3ed2911",
   "metadata": {},
   "source": [
    "<b>Формат вихідних даних</b>  \n",
    "Програма має вивести мінімально можливу кількість карбованих монет для оплати.\n",
    "\n",
    "\n",
    "<b>Sample Input 1:</b> 49  \n",
    "<b>Sample Output 1:</b> 7  \n",
    "\n",
    "\n",
    "<b>Sample Input 2:</b> 1  \n",
    "<b>Sample Output 2:</b> 1   \n",
    "\n",
    "\n",
    "<b>Sample Input 3:</b>   5  \n",
    "<b>Sample Output 3:</b>   1"
   ]
  },
  {
   "cell_type": "code",
   "execution_count": 1,
   "id": "8284b976",
   "metadata": {},
   "outputs": [
    {
     "name": "stdout",
     "output_type": "stream",
     "text": [
      "2\n",
      "2\n"
     ]
    }
   ],
   "source": [
    "sm = int(input())\n",
    "\n",
    "coins = [1, 5, 10, 25] #номінали монет\n",
    "\n",
    "ls = [0] * (sm+1)\n",
    "\n",
    "for i in range(1, sm+1): \n",
    "\n",
    "   ls[i] = float('inf')\n",
    "\n",
    "   for coin in coins:\n",
    "\n",
    "       if coin <= i:\n",
    "\n",
    "           ls[i] = min(ls[i], ls[i-coin]+1)\n",
    "\n",
    "print(ls[-1])"
   ]
  },
  {
   "cell_type": "markdown",
   "id": "c400290e",
   "metadata": {},
   "source": [
    "### Завдання 2\n",
    "##### Зірковий трикутник  \n",
    "На вхід програмі подається натуральне числоn(n≥2) – катет прямокутного рівнобедреного трикутника.\n",
    "\n",
    "Напишіть програму, яка виводить зірковий трикутник відповідно до прикладу.\n",
    "\n",
    "<b>Формат вхідних даних</b>  \n",
    "На вхід до програми подається одне натуральне число n(n≥2).\n",
    "\n",
    "<b>Формат вихідних даних</b>  \n",
    "Програма має вивести трикутник відповідно до умови завдання.\n",
    "<b>Sample Input 1:</b>  \n",
    "11\n",
    "  \n",
    "<b>Sample Output 1:</b>  \n",
    "![image.png](attachment:image.png)"
   ]
  },
  {
   "cell_type": "code",
   "execution_count": 2,
   "id": "f7ca5f70",
   "metadata": {},
   "outputs": [
    {
     "name": "stdout",
     "output_type": "stream",
     "text": [
      "Введи число5\n",
      "1  \n",
      "2 2  \n",
      "3 3 3  \n",
      "4 4 4 4  \n",
      "5 5 5 5 5  \n"
     ]
    }
   ],
   "source": [
    "n=int(input(\"Введи число\"))\n",
    "for i in range(1,n+1): #к-ть чисел від 1 до введеного числа+1\n",
    "    for j in range(1,i+1): #перебирає діапазон вище і додає +1\n",
    "        print(i,end=\" \")\n",
    "    print(\" \")"
   ]
  },
  {
   "cell_type": "markdown",
   "id": "5ab2f75c",
   "metadata": {},
   "source": [
    "### Завдання 3\n",
    "##### Скільки раз?  \n",
    "На вхід до програми подається один рядок. Напишіть програму, яка визначає скільки разів у рядку зустрічаються символи + та *.\n",
    "\n",
    "<b>Формат вхідних даних</b>  \n",
    "На вхід до програми подається один рядок.\n",
    "\n",
    "<b>Формат вихідних даних</b>  \n",
    "Програма повинна вивести скільки разів зустрічаються символи + та * у рядку.\n",
    "<b>Sample Input:</b>  \n",
    "bcd+a++++**31415\n",
    "\n",
    "<b>Sample Output:</b>  \n",
    "Символ + зустрічається 5 разів  \n",
    "Символ * зустрічається 2 рази "
   ]
  },
  {
   "cell_type": "code",
   "execution_count": 3,
   "id": "2fda50d5",
   "metadata": {},
   "outputs": [
    {
     "name": "stdout",
     "output_type": "stream",
     "text": [
      "5\n",
      "Символ * зустрічається 0 разів \n",
      "Символ + зустрічається 0 разів\n"
     ]
    }
   ],
   "source": [
    "lst = str(input())\n",
    "a=lst.count('*')\n",
    "b=lst.count('+')\n",
    "print(f'Символ * зустрічається {a} разів \\nСимвол + зустрічається {b} разів')"
   ]
  },
  {
   "cell_type": "markdown",
   "id": "dd22b36b",
   "metadata": {},
   "source": [
    "##### Паліндром\n",
    "На вхід до програми подається одне слово, записане в нижньому регістрі. Напишіть програму, яка визначає, чи є вона паліндромом.\n",
    "\n",
    "<b>Формат вхідних даних</b>\n",
    "На вхід до програми подається одне слово в нижньому регістрі.\n",
    "\n",
    "<b>Формат вихідних даних</b>\n",
    "Програма повинна вивести \"YES\", якщо слово є паліндромом і \"NO\" в іншому випадку.\n",
    "\n",
    "Примітка. Паліндром читається однаково в обох напрямках, наприклад, слово «потоп».  \n",
    "\n",
    "\n",
    "<b>Sample Input 1:</b>  \n",
    "потоп\n",
    "    \n",
    "<b>Sample Output 1:</b>  \n",
    "YES\n",
    "    \n",
    "<b>Sample Input 2:</b>  \n",
    "анекдот\n",
    "    \n",
    "<b>Sample Output 2:</b>  \n",
    "NO"
   ]
  },
  {
   "cell_type": "code",
   "execution_count": 4,
   "id": "f7248197",
   "metadata": {},
   "outputs": [
    {
     "name": "stdout",
     "output_type": "stream",
     "text": [
      "вилив\n",
      "yes\n"
     ]
    }
   ],
   "source": [
    "slovo = str(input())\n",
    "a = slovo[::-1]\n",
    "if slovo == a:\n",
    "  print(\"yes\")\n",
    "else:\n",
    "  print(\"no\")\n"
   ]
  },
  {
   "cell_type": "markdown",
   "id": "1469da0e",
   "metadata": {},
   "source": [
    "### Завдання 5\n",
    "##### Список кубів\n",
    "На вхід програмі подається натуральне число n, а потім n цілих чисел. Напишіть програму, яка створює із зазначених чисел список їх кубів.\n",
    "\n",
    "<b>Формат вхідних даних</b>\n",
    "На вхід до програми подаються натуральне число n, а потім n цілих чисел, кожне на окремому рядку.\n",
    "\n",
    "<b>Формат вихідних даних</b>\n",
    "Програма має вивести список, що складається із кубів зазначених чисел.\n",
    "<b>Sample Input 1:</b>  \n",
    "5  <br>\n",
    "1     <br>\n",
    "2    <br>\n",
    "3     <br>\n",
    "4    <br>\n",
    "5    <br>\n",
    "\n",
    "<b>Sample Output 1:</b>  \n",
    "[1, 8, 27, 64, 125]\n",
    "\n",
    "<b>Sample Input 2:</b>  \n",
    "2   <br>\n",
    "-5   <br>\n",
    "-2   <br>\n",
    "\n",
    "<b>Sample Output 2:</b>  \n",
    "[-125, -8]\n",
    "\n",
    "<b>Sample Input 3:</b>  \n",
    "1   <br>\n",
    "100   <br>\n",
    "\n",
    "<b>Sample Output 3:</b>  \n",
    "[1000000]"
   ]
  },
  {
   "cell_type": "code",
   "execution_count": 5,
   "id": "8b68d819",
   "metadata": {},
   "outputs": [
    {
     "name": "stdout",
     "output_type": "stream",
     "text": [
      "5\n",
      "5\n",
      "5\n",
      "5\n",
      "5\n",
      "5\n",
      "[125, 125, 125, 125, 125]\n"
     ]
    }
   ],
   "source": [
    "n=int(input()) #count number in list\n",
    "s=[]\n",
    "for _ in range(n):\n",
    "    x=int(input()) #number in list\n",
    "    s.append(x**3) #числа в листі в кубі\n",
    "print(s)"
   ]
  },
  {
   "cell_type": "markdown",
   "id": "07de2f37",
   "metadata": {},
   "source": [
    "### Завдання 6\n",
    "Напишіть функцію print_fio(name, surname, patronymic), яка приймає три параметри:\n",
    "\n",
    "name – ім'я людини;\n",
    "surname – прізвище людини;\n",
    "patronymic - по-батькові людини;\n",
    "а потім виводить на друк ПІБ людини.\n",
    "\n",
    "Примітка. Передбачте той факт, що всі три літери у ПІБ повинні мати верхній регістр.\n",
    "\n",
    "\n",
    "<b>Sample Input 1:</b>  \n",
    "Олександр  \n",
    "Пушкін  \n",
    "Сергійович  \n",
    "\n",
    "<b>Sample Output 1:</b>  \n",
    "ПАС  \n",
    "\n",
    "<b>Sample Input 2:</b>  \n",
    "тимур  \n",
    "Гуєв  \n",
    "ахсарбекович  \n",
    "\n",
    "<b>Sample Output 2:</b>  \n",
    "ГТА\n",
    "##### Підказка\n",
    "\n",
    "Щоб піднести першу букву слова треба використати .title()   \n",
    "'alex'.title() -> 'Alex'   <br>\n",
    "\n",
    "Щоб піднести всі букви слова треба використати .upper()  \n",
    "\n",
    "'alex'.upper() -> 'ALEX' "
   ]
  },
  {
   "cell_type": "code",
   "execution_count": null,
   "id": "e50e2460",
   "metadata": {},
   "outputs": [],
   "source": [
    "a=str(input())\n",
    "b=str(input())\n",
    "c=str(input())\n",
    "\n",
    "print(a.title(), b.title(), c.title())"
   ]
  },
  {
   "cell_type": "code",
   "execution_count": null,
   "id": "7e0ab342",
   "metadata": {},
   "outputs": [],
   "source": []
  }
 ],
 "metadata": {
  "kernelspec": {
   "display_name": "Python 3 (ipykernel)",
   "language": "python",
   "name": "python3"
  },
  "language_info": {
   "codemirror_mode": {
    "name": "ipython",
    "version": 3
   },
   "file_extension": ".py",
   "mimetype": "text/x-python",
   "name": "python",
   "nbconvert_exporter": "python",
   "pygments_lexer": "ipython3",
   "version": "3.11.5"
  }
 },
 "nbformat": 4,
 "nbformat_minor": 5
}
