{
 "cells": [
  {
   "cell_type": "markdown",
   "id": "ca61e358",
   "metadata": {},
   "source": []
  },
  {
   "cell_type": "markdown",
   "id": "63868192",
   "metadata": {},
   "source": [
    "**Завдання 1** - скачала\n",
    "\n",
    "**Завдання 2** - Markdown\n",
    "![Markdown](https://raw.githubusercontent.com/start20201202/Main-Academy-Data-Science/homework/Markdown.png)\n",
    "\n",
    "**Завдання 3**\n",
    "\n",
    "# 1.Markdown cells\n",
    "* Hi! Its Main Academy?\n",
    "* All HTML tabs are supposed!\n",
   
    "\n",
    "# This is Heading1\n",
    "\n",
    "## This is Heading2\n",
    "some gray colored text\n",
    "> This is where we can bring qoutes and present them nicely\n",
    "\n",
    "And yhis is the paragraph about something very important. Even math.\n",
    "\n",
    "$y_{sub}=\\sqrt{(x_{sub})}$\n",
    "\n",
    "Or python code example:\n",
    "\n",
    "```\n",
    "import math\n",
    "def foo():\n",
    "    return \"foo\"\n",
    "```\n",
    "\n",
    "**Завдання 4**\n",
    "\n",
    "Here is the sample mean:\n",
    "![](https://raw.githubusercontent.com/start20201202/Data-Science-Main-Academy/homework/sample%20mean.png)\n",
    "\n",
    "Here is the sample variance:\n",
    "![](https://raw.githubusercontent.com/start20201202/Data-Science-Main-Academy/homework/sample%20variance.png)\n",
    "\n",
    "Here is the standard deviation:\n",
    "Here is the sample variance:\n",
    "![](https://raw.githubusercontent.com/start20201202/Data-Science-Main-Academy/homework/standard%20deviation.png)\n",
    "\n"
   ]
  },
  {
   "cell_type": "markdown",
   "id": "6709e86e",
   "metadata": {},
   "source": []
  },
  {
   "cell_type": "code",
   "execution_count": null,
   "id": "da98c323",
   "metadata": {},
   "outputs": [],
   "source": []
  }
 ],
 "metadata": {
  "kernelspec": {
   "display_name": "Python 3 (ipykernel)",
   "language": "python",
   "name": "python3"
  },
  "language_info": {
   "codemirror_mode": {
    "name": "ipython",
    "version": 3
   },
   "file_extension": ".py",
   "mimetype": "text/x-python",
   "name": "python",
   "nbconvert_exporter": "python",
   "pygments_lexer": "ipython3",
   "version": "3.11.5"
  }
 },
 "nbformat": 4,
 "nbformat_minor": 5
}
